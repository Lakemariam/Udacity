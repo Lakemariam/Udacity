{
 "cells": [
  {
   "cell_type": "markdown",
   "metadata": {},
   "source": [
    "******\n",
    "<font size=\"20\"> <center> Air-bed and Breakfast (Airbnb)<center> <br> </font> \n",
    "<font size=\"20\"> <center> Seattle, Washington <center> <br> </font> \n",
    "******"
   ]
  },
  {
   "cell_type": "markdown",
   "metadata": {},
   "source": [
    "<img src=\"airbnb.jpg\" alt=\"Airbnb\">"
   ]
  },
  {
   "cell_type": "markdown",
   "metadata": {},
   "source": [
    "# <font size=\"5\"> Let's import some important liberaries for our project! </font>"
   ]
  },
  {
   "cell_type": "code",
   "execution_count": 1,
   "metadata": {},
   "outputs": [],
   "source": [
    "%matplotlib inline\n",
    "import pandas as pd\n",
    "import numpy as np\n",
    "import matplotlib.pyplot as plt"
   ]
  },
  {
   "cell_type": "markdown",
   "metadata": {},
   "source": [
    "# Step 1) Business understanding\n",
    "\n",
    "\n",
    "<font size=\"4\"> 1. Does climatological seasons in Seattle impact the price of airbnb listings?  <br> </font>\n",
    "<font size=\"4\"> 2. Which month have maximum number of listings and which month have minimum? <br> </font>\n",
    "<font size=\"4\"> 3. What is the distribution of unique prices? <br> </font>\n",
    "\n"
   ]
  },
  {
   "cell_type": "markdown",
   "metadata": {},
   "source": [
    "# Step 2) Data understanding "
   ]
  },
  {
   "cell_type": "code",
   "execution_count": 2,
   "metadata": {
    "scrolled": false
   },
   "outputs": [
    {
     "data": {
      "text/html": [
       "<div>\n",
       "<style scoped>\n",
       "    .dataframe tbody tr th:only-of-type {\n",
       "        vertical-align: middle;\n",
       "    }\n",
       "\n",
       "    .dataframe tbody tr th {\n",
       "        vertical-align: top;\n",
       "    }\n",
       "\n",
       "    .dataframe thead th {\n",
       "        text-align: right;\n",
       "    }\n",
       "</style>\n",
       "<table border=\"1\" class=\"dataframe\">\n",
       "  <thead>\n",
       "    <tr style=\"text-align: right;\">\n",
       "      <th></th>\n",
       "      <th>listing_id</th>\n",
       "      <th>date</th>\n",
       "      <th>available</th>\n",
       "      <th>price</th>\n",
       "    </tr>\n",
       "  </thead>\n",
       "  <tbody>\n",
       "    <tr>\n",
       "      <td>0</td>\n",
       "      <td>241032</td>\n",
       "      <td>2016-01-04</td>\n",
       "      <td>t</td>\n",
       "      <td>85.00</td>\n",
       "    </tr>\n",
       "    <tr>\n",
       "      <td>1</td>\n",
       "      <td>241032</td>\n",
       "      <td>2016-01-05</td>\n",
       "      <td>t</td>\n",
       "      <td>85.00</td>\n",
       "    </tr>\n",
       "    <tr>\n",
       "      <td>2</td>\n",
       "      <td>241032</td>\n",
       "      <td>2016-01-06</td>\n",
       "      <td>f</td>\n",
       "      <td>NaN</td>\n",
       "    </tr>\n",
       "    <tr>\n",
       "      <td>3</td>\n",
       "      <td>241032</td>\n",
       "      <td>2016-01-07</td>\n",
       "      <td>f</td>\n",
       "      <td>NaN</td>\n",
       "    </tr>\n",
       "    <tr>\n",
       "      <td>4</td>\n",
       "      <td>241032</td>\n",
       "      <td>2016-01-08</td>\n",
       "      <td>f</td>\n",
       "      <td>NaN</td>\n",
       "    </tr>\n",
       "  </tbody>\n",
       "</table>\n",
       "</div>"
      ],
      "text/plain": [
       "   listing_id        date available  price\n",
       "0      241032  2016-01-04         t  85.00\n",
       "1      241032  2016-01-05         t  85.00\n",
       "2      241032  2016-01-06         f    NaN\n",
       "3      241032  2016-01-07         f    NaN\n",
       "4      241032  2016-01-08         f    NaN"
      ]
     },
     "execution_count": 2,
     "metadata": {},
     "output_type": "execute_result"
    }
   ],
   "source": [
    "# First we load the calendar csv file into pandas dataframe and identifying columns with values of our interest \n",
    "\n",
    "df = pd.read_csv('calendar.csv')\n",
    "\n",
    "# Here we remove the dollar sign from price column to calculate average price\n",
    "df['price'] = df['price'].replace({'\\$':''}, regex = True)\n",
    "\n",
    "# using .head() we can have 5 row values of our data frame\n",
    "df.head()"
   ]
  },
  {
   "cell_type": "code",
   "execution_count": 3,
   "metadata": {},
   "outputs": [
    {
     "data": {
      "text/plain": [
       "(1393570, 4)"
      ]
     },
     "execution_count": 3,
     "metadata": {},
     "output_type": "execute_result"
    }
   ],
   "source": [
    "df.shape"
   ]
  },
  {
   "cell_type": "code",
   "execution_count": 4,
   "metadata": {},
   "outputs": [],
   "source": [
    "# There are some values we in the thousands and we should remove the comma from the string before converting\n",
    "# the price column into integer\n",
    "\n",
    "df['price'] = df['price'].str.replace(',', '').astype(float)"
   ]
  },
  {
   "cell_type": "code",
   "execution_count": 5,
   "metadata": {},
   "outputs": [],
   "source": [
    "#Let us separate date into year, month, and day to analyze some of the calendars \n",
    "\n",
    "df['year'] = pd.DatetimeIndex(df['date']).year\n",
    "df['month'] = pd.DatetimeIndex(df['date']).month\n",
    "df['day'] = pd.DatetimeIndex(df['date']).day"
   ]
  },
  {
   "cell_type": "code",
   "execution_count": 6,
   "metadata": {},
   "outputs": [
    {
     "data": {
      "text/plain": [
       "(1385934, 7)"
      ]
     },
     "execution_count": 6,
     "metadata": {},
     "output_type": "execute_result"
    }
   ],
   "source": [
    "# Since we only have few dates in 2017 we filtered and select only 2016\n",
    "\n",
    "df = df[df['year'] == 2016]\n",
    "df.shape"
   ]
  },
  {
   "cell_type": "markdown",
   "metadata": {},
   "source": [
    "According to University of Nebraska Lincoln the Seattle are climatology has the one long rainy season and summer season. The detailed information can be accessed on <a href=\"https://drought.unl.edu/archive/climographs/SeattleANC.htm\"> University of Nebraska-Lincoln Drought Monitoring website</a> <br> \n",
    "<img src=\"SeaTacomaMTMP.jpg\" alt=\"Seattle Annual Climatology\">"
   ]
  },
  {
   "cell_type": "code",
   "execution_count": 7,
   "metadata": {},
   "outputs": [],
   "source": [
    "# Seattle have two distinct seasons; long rainy season (fall, winter, and spring) and summer season. \n",
    "# Here are the four traditional seasons \n",
    "\n",
    "df_rainy = df.loc[df['month'].isin(['10','11','12','1','2','3','4','5'])]\n",
    "df_summer = df.loc[df['month'].isin(['6','7', '8', '9'])]"
   ]
  },
  {
   "cell_type": "markdown",
   "metadata": {},
   "source": [
    "## Check for missing value or NaN "
   ]
  },
  {
   "cell_type": "markdown",
   "metadata": {},
   "source": [
    "<font size =\"4\"> All missing values are assigned as NaN. All the price designnated as NaN has a corresponding False (f) value of column name \"available\". Therefore we will only work on available data assigned as True (t) for both rainy and summer seasons.<font> "
   ]
  },
  {
   "cell_type": "code",
   "execution_count": 8,
   "metadata": {},
   "outputs": [
    {
     "data": {
      "text/html": [
       "<div>\n",
       "<style scoped>\n",
       "    .dataframe tbody tr th:only-of-type {\n",
       "        vertical-align: middle;\n",
       "    }\n",
       "\n",
       "    .dataframe tbody tr th {\n",
       "        vertical-align: top;\n",
       "    }\n",
       "\n",
       "    .dataframe thead th {\n",
       "        text-align: right;\n",
       "    }\n",
       "</style>\n",
       "<table border=\"1\" class=\"dataframe\">\n",
       "  <thead>\n",
       "    <tr style=\"text-align: right;\">\n",
       "      <th></th>\n",
       "      <th>listing_id</th>\n",
       "      <th>date</th>\n",
       "      <th>available</th>\n",
       "      <th>price</th>\n",
       "      <th>year</th>\n",
       "      <th>month</th>\n",
       "      <th>day</th>\n",
       "    </tr>\n",
       "  </thead>\n",
       "  <tbody>\n",
       "    <tr>\n",
       "      <td>149</td>\n",
       "      <td>241032</td>\n",
       "      <td>2016-06-01</td>\n",
       "      <td>t</td>\n",
       "      <td>85.0</td>\n",
       "      <td>2016</td>\n",
       "      <td>6</td>\n",
       "      <td>1</td>\n",
       "    </tr>\n",
       "    <tr>\n",
       "      <td>150</td>\n",
       "      <td>241032</td>\n",
       "      <td>2016-06-02</td>\n",
       "      <td>t</td>\n",
       "      <td>85.0</td>\n",
       "      <td>2016</td>\n",
       "      <td>6</td>\n",
       "      <td>2</td>\n",
       "    </tr>\n",
       "    <tr>\n",
       "      <td>151</td>\n",
       "      <td>241032</td>\n",
       "      <td>2016-06-03</td>\n",
       "      <td>t</td>\n",
       "      <td>85.0</td>\n",
       "      <td>2016</td>\n",
       "      <td>6</td>\n",
       "      <td>3</td>\n",
       "    </tr>\n",
       "    <tr>\n",
       "      <td>152</td>\n",
       "      <td>241032</td>\n",
       "      <td>2016-06-04</td>\n",
       "      <td>t</td>\n",
       "      <td>85.0</td>\n",
       "      <td>2016</td>\n",
       "      <td>6</td>\n",
       "      <td>4</td>\n",
       "    </tr>\n",
       "    <tr>\n",
       "      <td>153</td>\n",
       "      <td>241032</td>\n",
       "      <td>2016-06-05</td>\n",
       "      <td>t</td>\n",
       "      <td>85.0</td>\n",
       "      <td>2016</td>\n",
       "      <td>6</td>\n",
       "      <td>5</td>\n",
       "    </tr>\n",
       "  </tbody>\n",
       "</table>\n",
       "</div>"
      ],
      "text/plain": [
       "     listing_id        date available  price  year  month  day\n",
       "149      241032  2016-06-01         t   85.0  2016      6    1\n",
       "150      241032  2016-06-02         t   85.0  2016      6    2\n",
       "151      241032  2016-06-03         t   85.0  2016      6    3\n",
       "152      241032  2016-06-04         t   85.0  2016      6    4\n",
       "153      241032  2016-06-05         t   85.0  2016      6    5"
      ]
     },
     "execution_count": 8,
     "metadata": {},
     "output_type": "execute_result"
    }
   ],
   "source": [
    "# Filtering available (av) airbnb units during summer \n",
    "av_df_summer = df_summer[df_summer['available'].str.match('t')]\n",
    "av_df_summer.head()"
   ]
  },
  {
   "cell_type": "code",
   "execution_count": 9,
   "metadata": {},
   "outputs": [
    {
     "data": {
      "image/png": "[encoded data removed]",
      "text/plain": [
       "<Figure size 576x432 with 1 Axes>"
      ]
     },
     "metadata": {
      "needs_background": "light"
     },
     "output_type": "display_data"
    }
   ],
   "source": [
    "# Number of listings in each months during summer season\n",
    "plt.figure(figsize=(8,6))\n",
    "x = [6, 7, 8, 9]\n",
    "num_summer = plt.hist(av_df_summer['month'], color = \"orange\")\n",
    "plt.xlabel('month', fontsize=20)\n",
    "plt.ylabel('Number of Available Listings', fontsize=20)\n",
    "plt.xticks(x, ('June', 'July', 'August', 'September'))\n",
    "plt.savefig(\"Summer_Count.jpg\")"
   ]
  },
  {
   "cell_type": "code",
   "execution_count": 10,
   "metadata": {
    "scrolled": false
   },
   "outputs": [
    {
     "data": {
      "text/html": [
       "<div>\n",
       "<style scoped>\n",
       "    .dataframe tbody tr th:only-of-type {\n",
       "        vertical-align: middle;\n",
       "    }\n",
       "\n",
       "    .dataframe tbody tr th {\n",
       "        vertical-align: top;\n",
       "    }\n",
       "\n",
       "    .dataframe thead th {\n",
       "        text-align: right;\n",
       "    }\n",
       "</style>\n",
       "<table border=\"1\" class=\"dataframe\">\n",
       "  <thead>\n",
       "    <tr style=\"text-align: right;\">\n",
       "      <th></th>\n",
       "      <th>listing_id</th>\n",
       "      <th>date</th>\n",
       "      <th>available</th>\n",
       "      <th>price</th>\n",
       "      <th>year</th>\n",
       "      <th>month</th>\n",
       "      <th>day</th>\n",
       "    </tr>\n",
       "  </thead>\n",
       "  <tbody>\n",
       "    <tr>\n",
       "      <td>0</td>\n",
       "      <td>241032</td>\n",
       "      <td>2016-01-04</td>\n",
       "      <td>t</td>\n",
       "      <td>85.0</td>\n",
       "      <td>2016</td>\n",
       "      <td>1</td>\n",
       "      <td>4</td>\n",
       "    </tr>\n",
       "    <tr>\n",
       "      <td>1</td>\n",
       "      <td>241032</td>\n",
       "      <td>2016-01-05</td>\n",
       "      <td>t</td>\n",
       "      <td>85.0</td>\n",
       "      <td>2016</td>\n",
       "      <td>1</td>\n",
       "      <td>5</td>\n",
       "    </tr>\n",
       "    <tr>\n",
       "      <td>9</td>\n",
       "      <td>241032</td>\n",
       "      <td>2016-01-13</td>\n",
       "      <td>t</td>\n",
       "      <td>85.0</td>\n",
       "      <td>2016</td>\n",
       "      <td>1</td>\n",
       "      <td>13</td>\n",
       "    </tr>\n",
       "    <tr>\n",
       "      <td>10</td>\n",
       "      <td>241032</td>\n",
       "      <td>2016-01-14</td>\n",
       "      <td>t</td>\n",
       "      <td>85.0</td>\n",
       "      <td>2016</td>\n",
       "      <td>1</td>\n",
       "      <td>14</td>\n",
       "    </tr>\n",
       "    <tr>\n",
       "      <td>14</td>\n",
       "      <td>241032</td>\n",
       "      <td>2016-01-18</td>\n",
       "      <td>t</td>\n",
       "      <td>85.0</td>\n",
       "      <td>2016</td>\n",
       "      <td>1</td>\n",
       "      <td>18</td>\n",
       "    </tr>\n",
       "  </tbody>\n",
       "</table>\n",
       "</div>"
      ],
      "text/plain": [
       "    listing_id        date available  price  year  month  day\n",
       "0       241032  2016-01-04         t   85.0  2016      1    4\n",
       "1       241032  2016-01-05         t   85.0  2016      1    5\n",
       "9       241032  2016-01-13         t   85.0  2016      1   13\n",
       "10      241032  2016-01-14         t   85.0  2016      1   14\n",
       "14      241032  2016-01-18         t   85.0  2016      1   18"
      ]
     },
     "execution_count": 10,
     "metadata": {},
     "output_type": "execute_result"
    }
   ],
   "source": [
    "# Filtering available (av) airbnb units during summer season\n",
    "av_df_rainy = df_rainy[df_rainy['available'].str.match('t')]\n",
    "av_df_rainy.head()"
   ]
  },
  {
   "cell_type": "code",
   "execution_count": 11,
   "metadata": {},
   "outputs": [
    {
     "data": {
      "image/png": "[encoded data removed]",
      "text/plain": [
       "<Figure size 576x432 with 1 Axes>"
      ]
     },
     "metadata": {
      "needs_background": "light"
     },
     "output_type": "display_data"
    }
   ],
   "source": [
    "# Number of listings in each months during rainy season\n",
    "plt.figure(figsize=(8,6))\n",
    "x = [10, 11, 12, 1, 2, 3, 4, 5]\n",
    "num_summer = plt.hist(av_df_rainy['month'])\n",
    "plt.xlabel('month', fontsize=20)\n",
    "plt.ylabel('Number of Available Listings', fontsize=20)\n",
    "plt.xticks(x, ('Oct', 'Nov', 'Dec', 'Jan', 'Feb', 'Mar', 'Apr', 'May'))\n",
    "plt.savefig(\"Rainy_Count.jpg\")"
   ]
  },
  {
   "cell_type": "code",
   "execution_count": 12,
   "metadata": {},
   "outputs": [
    {
     "data": {
      "image/png": "[encoded data removed]",
      "text/plain": [
       "<Figure size 576x432 with 1 Axes>"
      ]
     },
     "metadata": {
      "needs_background": "light"
     },
     "output_type": "display_data"
    }
   ],
   "source": [
    "# Identifying unique values and plot a histogram to make sense of the price distribution for summer season\n",
    "av_df_price_summer = av_df_summer['price'].unique()\n",
    "plt.figure(figsize=(8,6))\n",
    "plt.hist(av_df_price_summer, color = \"orange\")\n",
    "plt.xlabel('Summer Price Range ($)', fontsize=20)\n",
    "plt.ylabel('Number of Unique Prices', fontsize=20)\n",
    "plt.savefig(\"Summer_Unique_Count.jpg\")"
   ]
  },
  {
   "cell_type": "code",
   "execution_count": 13,
   "metadata": {},
   "outputs": [
    {
     "data": {
      "image/png": "[encoded data removed]",
      "text/plain": [
       "<Figure size 576x432 with 1 Axes>"
      ]
     },
     "metadata": {
      "needs_background": "light"
     },
     "output_type": "display_data"
    }
   ],
   "source": [
    "# Identifying unique values and plot a histogram to make sense of the price distribution for rainy season\n",
    "av_df_price_rainy = av_df_rainy['price'].unique()\n",
    "plt.figure(figsize=(8,6))\n",
    "plt.hist(av_df_price_rainy)\n",
    "plt.xlabel('Rainy Price Range ($)', fontsize=20)\n",
    "plt.ylabel('Number of Unique Prices', fontsize=20)\n",
    "plt.savefig(\"Rainy_Unique_Count.jpg\")"
   ]
  },
  {
   "cell_type": "markdown",
   "metadata": {},
   "source": [
    "# Step 3) Data Analysis"
   ]
  },
  {
   "cell_type": "markdown",
   "metadata": {},
   "source": [
    "<font size = \"6\"> Statistical analysis of the price of listings for rainy and summer seasons <font>"
   ]
  },
  {
   "cell_type": "code",
   "execution_count": 14,
   "metadata": {},
   "outputs": [],
   "source": [
    "# The listings price that is greater than or less than $200 for both rainy and summer seasons\n",
    "RP_ls_200 = sum(i < 200  for i in av_df_rainy['price'])\n",
    "SP_ls_200 = sum(i < 200  for i in av_df_summer['price'])\n",
    "RP_gr_200 = sum(i > 200  for i in av_df_rainy['price'])\n",
    "SP_gr_200 = sum(i > 200  for i in av_df_summer['price'])"
   ]
  },
  {
   "cell_type": "code",
   "execution_count": 15,
   "metadata": {},
   "outputs": [
    {
     "name": "stdout",
     "output_type": "stream",
     "text": [
      "[528050, 241249, 85534, 57971]\n"
     ]
    }
   ],
   "source": [
    "print([RP_ls_200,SP_ls_200,RP_gr_200,SP_gr_200])"
   ]
  },
  {
   "cell_type": "code",
   "execution_count": 16,
   "metadata": {},
   "outputs": [
    {
     "name": "stdout",
     "output_type": "stream",
     "text": [
      "148.32630737004973\n"
     ]
    }
   ],
   "source": [
    "#Let us calculate average price during peak tourist season (summer) season\n",
    "\n",
    "print(pd.to_numeric(av_df_summer['price'], errors='coerce').mean())"
   ]
  },
  {
   "cell_type": "code",
   "execution_count": 17,
   "metadata": {},
   "outputs": [
    {
     "name": "stdout",
     "output_type": "stream",
     "text": [
      "1450.0\n"
     ]
    }
   ],
   "source": [
    "#Let us calculate average price during peak tourist season (summer) season\n",
    "\n",
    "print(pd.to_numeric(av_df_summer['price'], errors='coerce').max())"
   ]
  },
  {
   "cell_type": "code",
   "execution_count": 18,
   "metadata": {},
   "outputs": [
    {
     "name": "stdout",
     "output_type": "stream",
     "text": [
      "20.0\n"
     ]
    }
   ],
   "source": [
    "#Let us calculate average price during peak tourist season (summer) season\n",
    "\n",
    "print(pd.to_numeric(av_df_summer['price'], errors='coerce').min())"
   ]
  },
  {
   "cell_type": "code",
   "execution_count": 19,
   "metadata": {
    "scrolled": true
   },
   "outputs": [
    {
     "name": "stdout",
     "output_type": "stream",
     "text": [
      "132.877565186723\n"
     ]
    }
   ],
   "source": [
    "#Let us calculate average price during long rainy season\n",
    "print(pd.to_numeric(av_df_rainy['price'], errors='coerce').mean())"
   ]
  },
  {
   "cell_type": "code",
   "execution_count": 20,
   "metadata": {},
   "outputs": [
    {
     "name": "stdout",
     "output_type": "stream",
     "text": [
      "1650.0\n"
     ]
    }
   ],
   "source": [
    "#Let us calculate average price during long rainy season\n",
    "print(pd.to_numeric(av_df_rainy['price'], errors='coerce').max())"
   ]
  },
  {
   "cell_type": "code",
   "execution_count": 21,
   "metadata": {
    "scrolled": true
   },
   "outputs": [
    {
     "name": "stdout",
     "output_type": "stream",
     "text": [
      "10.0\n"
     ]
    }
   ],
   "source": [
    "#Let us calculate average price during long rainy season\n",
    "print(pd.to_numeric(av_df_rainy['price'], errors='coerce').min())"
   ]
  },
  {
   "cell_type": "markdown",
   "metadata": {},
   "source": [
    "<font size=\"6\"> Conclusion <font>"
   ]
  },
  {
   "cell_type": "markdown",
   "metadata": {},
   "source": [
    "<p> <font size=\"4\"> Seattle, the largest city in Washington state, is a beautiful city located in Northeastern Pacific Ocean surrounded with lakes, mountains and evergreen forests. The city visited by several thousands of tourists, businesspeople, and students each year. However, the visitors over the past decade frequently used airbnb service for accommodation instead of traditional hotel and motel services. Seattle have two climatological seasons in which long rainy season from October to May and summer season from June to September. Summer is more pleasant than rainy season. The airbnb service shows December and January has a maximum number of listings and all summer months have fewer listings than all rainy season months. Even though summer listings are less than rainy season the average price during summer is higher. We can characterize this in terms of sample size where rainy season has 623,785 and summer season has 305,059 available listings. The unique price values show that during summer and rainy season 19% and 13% of the listings priced above 200 dollars while the remaining priced below 200 dollars respectively. The overall analysis of the Seattle airbnb shows that during summer the price is higher than rainy season.<font> </p> "
   ]
  },
  {
   "cell_type": "markdown",
   "metadata": {},
   "source": [
    "<font size=\"5\"> Lakemariam Worku <font> <br>\n",
    "06/18/2020"
   ]
  }
 ],
 "metadata": {
  "kernelspec": {
   "display_name": "Python 3",
   "language": "python",
   "name": "python3"
  },
  "language_info": {
   "codemirror_mode": {
    "name": "ipython",
    "version": 3
   },
   "file_extension": ".py",
   "mimetype": "text/x-python",
   "name": "python",
   "nbconvert_exporter": "python",
   "pygments_lexer": "ipython3",
   "version": "3.7.4"
  }
 },
 "nbformat": 4,
 "nbformat_minor": 2
}
